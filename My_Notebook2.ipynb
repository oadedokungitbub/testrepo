{
 "cells": [
  {
   "cell_type": "code",
   "execution_count": null,
   "id": "d9532f05",
   "metadata": {},
   "outputs": [],
   "source": [
    "# create a new code cell below this cell and type in 4.5 and execute it"
   ]
  },
  {
   "cell_type": "code",
   "execution_count": 1,
   "id": "679dd876",
   "metadata": {},
   "outputs": [
    {
     "data": {
      "text/plain": [
       "4.5"
      ]
     },
     "execution_count": 1,
     "metadata": {},
     "output_type": "execute_result"
    }
   ],
   "source": [
    "4.5"
   ]
  },
  {
   "cell_type": "code",
   "execution_count": 2,
   "id": "a0b1e282",
   "metadata": {},
   "outputs": [
    {
     "data": {
      "text/plain": [
       "5"
      ]
     },
     "execution_count": 2,
     "metadata": {},
     "output_type": "execute_result"
    }
   ],
   "source": [
    "# Execute this cell by clicking Shift+Enter\n",
    "2+3"
   ]
  },
  {
   "cell_type": "code",
   "execution_count": 3,
   "id": "9bd169c1",
   "metadata": {},
   "outputs": [],
   "source": [
    "# Executing this cell by clicking Shift+Enter\n",
    "#2+3"
   ]
  },
  {
   "cell_type": "markdown",
   "id": "c9f412b2",
   "metadata": {},
   "source": [
    "My First Markdown"
   ]
  },
  {
   "cell_type": "markdown",
   "id": "0e219e1b",
   "metadata": {},
   "source": [
    "Evaluating Basic Arithmetric Expression"
   ]
  },
  {
   "cell_type": "code",
   "execution_count": 4,
   "id": "c0bc5049",
   "metadata": {},
   "outputs": [
    {
     "data": {
      "text/plain": [
       "100"
      ]
     },
     "execution_count": 4,
     "metadata": {},
     "output_type": "execute_result"
    }
   ],
   "source": [
    "(20+5)*4"
   ]
  },
  {
   "cell_type": "code",
   "execution_count": 5,
   "id": "51a7a454",
   "metadata": {},
   "outputs": [
    {
     "data": {
      "text/plain": [
       "'Let us explore python without codng'"
      ]
     },
     "execution_count": 5,
     "metadata": {},
     "output_type": "execute_result"
    }
   ],
   "source": [
    "# Displaying a string message\n",
    "\"Let us explore python without codng\""
   ]
  },
  {
   "cell_type": "code",
   "execution_count": null,
   "id": "368121fe",
   "metadata": {},
   "outputs": [],
   "source": [
    "1+1"
   ]
  },
  {
   "cell_type": "code",
   "execution_count": 6,
   "id": "fe1e6ed6",
   "metadata": {},
   "outputs": [
    {
     "data": {
      "text/plain": [
       "4"
      ]
     },
     "execution_count": 6,
     "metadata": {},
     "output_type": "execute_result"
    }
   ],
   "source": [
    "2*2"
   ]
  },
  {
   "cell_type": "code",
   "execution_count": null,
   "id": "d0574780",
   "metadata": {},
   "outputs": [],
   "source": []
  },
  {
   "cell_type": "code",
   "execution_count": null,
   "id": "efd9e163",
   "metadata": {},
   "outputs": [],
   "source": [
    "1+1"
   ]
  },
  {
   "cell_type": "code",
   "execution_count": 7,
   "id": "ce90ebe7",
   "metadata": {},
   "outputs": [
    {
     "data": {
      "text/plain": [
       "4"
      ]
     },
     "execution_count": 7,
     "metadata": {},
     "output_type": "execute_result"
    }
   ],
   "source": [
    "2*2"
   ]
  },
  {
   "cell_type": "code",
   "execution_count": 8,
   "id": "11d34025",
   "metadata": {},
   "outputs": [
    {
     "data": {
      "text/plain": [
       "15"
      ]
     },
     "execution_count": 8,
     "metadata": {},
     "output_type": "execute_result"
    }
   ],
   "source": [
    "11+4"
   ]
  },
  {
   "cell_type": "code",
   "execution_count": null,
   "id": "bcd8c2ac",
   "metadata": {},
   "outputs": [],
   "source": []
  }
 ],
 "metadata": {
  "kernelspec": {
   "display_name": "Python 3 (ipykernel)",
   "language": "python",
   "name": "python3"
  },
  "language_info": {
   "codemirror_mode": {
    "name": "ipython",
    "version": 3
   },
   "file_extension": ".py",
   "mimetype": "text/x-python",
   "name": "python",
   "nbconvert_exporter": "python",
   "pygments_lexer": "ipython3",
   "version": "3.11.5"
  }
 },
 "nbformat": 4,
 "nbformat_minor": 5
}
